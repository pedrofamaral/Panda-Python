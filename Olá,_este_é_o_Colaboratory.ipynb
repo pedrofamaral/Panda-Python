{
  "cells": [
    {
      "cell_type": "markdown",
      "metadata": {
        "id": "view-in-github",
        "colab_type": "text"
      },
      "source": [
        "<a href=\"https://colab.research.google.com/github/pedrofamaral/Panda-Python/blob/main/Ol%C3%A1%2C_este_%C3%A9_o_Colaboratory.ipynb\" target=\"_parent\"><img src=\"https://colab.research.google.com/assets/colab-badge.svg\" alt=\"Open In Colab\"/></a>"
      ]
    },
    {
      "cell_type": "markdown",
      "source": [
        "Tarefa 5.1 - Pré-processamento de um conjunto de dados\n",
        "1. Faça a leitura do arquivo \"Churn_Modelling_2.csvLinks to an external site.\" disponível na pasta \"ChurnLinks to an external site.\" no repositório GitHub da disciplinaLinks to an external site. e armazene numa variável como um dataframe\n"
      ],
      "metadata": {
        "id": "zzogTg1UsqrN"
      }
    },
    {
      "cell_type": "code",
      "execution_count": 34,
      "metadata": {
        "id": "zwFnJsE6vjf8",
        "colab": {
          "base_uri": "https://localhost:8080/"
        },
        "outputId": "2dfb541c-3dfc-4bd6-b796-f6295808544b"
      },
      "outputs": [
        {
          "output_type": "stream",
          "name": "stdout",
          "text": [
            "   RowNumber  CustomerId   Surname  CreditScore Geography  Gender  Age  \\\n",
            "0          1    15634602  Hargrave          619    France  Female   42   \n",
            "1          2    15647311      Hill          608     Spain  Female   41   \n",
            "2          3    15619304      Onio          502    France  Female   42   \n",
            "3          4    15701354      Boni          699    France  Female   39   \n",
            "4          5    15737888  Mitchell          850     Spain  Female   43   \n",
            "\n",
            "   Tenure    Balance  NumOfProducts  HasCrCard  IsActiveMember  \\\n",
            "0       2       0.00              1          1               1   \n",
            "1       1   83807.86              1          0               1   \n",
            "2       8  159660.80              3          1               0   \n",
            "3       1       0.00              2          0               0   \n",
            "4       2  125510.82              1          1               1   \n",
            "\n",
            "   EstimatedSalary  Exited  \n",
            "0        101348.88       1  \n",
            "1        112542.58       0  \n",
            "2        113931.57       1  \n",
            "3         93826.63       0  \n",
            "4         79084.10       0  \n"
          ]
        }
      ],
      "source": [
        "import pandas as pd\n",
        "\n",
        "url = 'https://raw.githubusercontent.com/malegopc/DSBD/main/Datasets/Churn/Churn_Modelling.csv'\n",
        "\n",
        "df = pd.read_csv(url)\n",
        "\n",
        "print(df.head())"
      ]
    },
    {
      "cell_type": "markdown",
      "source": [
        "2. Elimine instâncias (linhas) com dados ausentes para a variável \"IsActiveMember\"."
      ],
      "metadata": {
        "id": "eRSh4dWIuLyg"
      }
    },
    {
      "cell_type": "code",
      "execution_count": 35,
      "metadata": {
        "colab": {
          "base_uri": "https://localhost:8080/"
        },
        "id": "gJr_9dXGpJ05",
        "outputId": "a224fa7f-66a9-455c-adef-be8b6eeedeab"
      },
      "outputs": [
        {
          "output_type": "stream",
          "name": "stdout",
          "text": [
            "   RowNumber  CustomerId   Surname  CreditScore Geography  Gender  Age  \\\n",
            "0          1    15634602  Hargrave          619    France  Female   42   \n",
            "1          2    15647311      Hill          608     Spain  Female   41   \n",
            "2          3    15619304      Onio          502    France  Female   42   \n",
            "3          4    15701354      Boni          699    France  Female   39   \n",
            "4          5    15737888  Mitchell          850     Spain  Female   43   \n",
            "\n",
            "   Tenure    Balance  NumOfProducts  HasCrCard  IsActiveMember  \\\n",
            "0       2       0.00              1          1               1   \n",
            "1       1   83807.86              1          0               1   \n",
            "2       8  159660.80              3          1               0   \n",
            "3       1       0.00              2          0               0   \n",
            "4       2  125510.82              1          1               1   \n",
            "\n",
            "   EstimatedSalary  Exited  \n",
            "0        101348.88       1  \n",
            "1        112542.58       0  \n",
            "2        113931.57       1  \n",
            "3         93826.63       0  \n",
            "4         79084.10       0  \n",
            "Linhas antes da remoção: 10000\n",
            "Linhas após a remoção: 10000\n"
          ]
        }
      ],
      "source": [
        "df_cleaned = df.dropna(subset=['IsActiveMember'])\n",
        "\n",
        "print(df_cleaned.head())\n",
        "\n",
        "print(f\"Linhas antes da remoção: {len(df)}\")\n",
        "print(f\"Linhas após a remoção: {len(df_cleaned)}\")\n"
      ]
    },
    {
      "cell_type": "markdown",
      "source": [
        "3. Faça a imputação dos dados ausentes para a variável \"NumOfProducts\" utilizando a média da variável.\n",
        "\n"
      ],
      "metadata": {
        "id": "KYjURQOUvAYJ"
      }
    },
    {
      "cell_type": "code",
      "execution_count": 36,
      "metadata": {
        "colab": {
          "base_uri": "https://localhost:8080/"
        },
        "id": "-gE-Ez1qtyIA",
        "outputId": "bc33718d-69df-4a1e-f6ed-8de4ad905fc0"
      },
      "outputs": [
        {
          "output_type": "stream",
          "name": "stdout",
          "text": [
            "   RowNumber  CustomerId   Surname  CreditScore Geography  Gender  Age  \\\n",
            "0          1    15634602  Hargrave          619    France  Female   42   \n",
            "1          2    15647311      Hill          608     Spain  Female   41   \n",
            "2          3    15619304      Onio          502    France  Female   42   \n",
            "3          4    15701354      Boni          699    France  Female   39   \n",
            "4          5    15737888  Mitchell          850     Spain  Female   43   \n",
            "\n",
            "   Tenure    Balance  NumOfProducts  HasCrCard  IsActiveMember  \\\n",
            "0       2       0.00              1          1               1   \n",
            "1       1   83807.86              1          0               1   \n",
            "2       8  159660.80              3          1               0   \n",
            "3       1       0.00              2          0               0   \n",
            "4       2  125510.82              1          1               1   \n",
            "\n",
            "   EstimatedSalary  Exited  \n",
            "0        101348.88       1  \n",
            "1        112542.58       0  \n",
            "2        113931.57       1  \n",
            "3         93826.63       0  \n",
            "4         79084.10       0  \n",
            "Valores ausentes restantes em 'NumOfProducts': 0\n"
          ]
        }
      ],
      "source": [
        "media_num_of_products = df_cleaned['NumOfProducts'].mean()\n",
        "\n",
        "\n",
        "df_cleaned = df_cleaned.copy()\n",
        "df_cleaned['NumOfProducts'] = df_cleaned['NumOfProducts'].fillna(media_num_of_products)\n",
        "\n",
        "print(df_cleaned.head())\n",
        "\n",
        "print(f\"Valores ausentes restantes em 'NumOfProducts': {df_cleaned['NumOfProducts'].isna().sum()}\")"
      ]
    },
    {
      "cell_type": "markdown",
      "source": [
        "4. Crie uma variável (array) X que contenha os valores apenas dos atributos/colunas de \"CreditScore\" a \"EstimatedSalary\" utilizando a função \"iloc\" do Pandas. Em outras palavras, crie uma variável X que receba o dataframe inteiro exceto as 3 primeiras colunas e a última. Observe que as 3 primeiras colunas \"RowNumber\", \"CustomerId\" e \"Surname\" não são importantes e devem ser descartadas. E a última coluna (\"Exited\") será a variável destino (\"target\" ou saída) que será criada no próximo passo"
      ],
      "metadata": {
        "id": "c5LmYf4pwQGu"
      }
    },
    {
      "cell_type": "code",
      "source": [
        "X = df_cleaned.iloc[:, 3:-1]\n",
        "print(X.head())"
      ],
      "metadata": {
        "colab": {
          "base_uri": "https://localhost:8080/"
        },
        "id": "twvqKLBIwUCr",
        "outputId": "57d03134-f4cc-4404-a231-a9540718b104"
      },
      "execution_count": 37,
      "outputs": [
        {
          "output_type": "stream",
          "name": "stdout",
          "text": [
            "   CreditScore Geography  Gender  Age  Tenure    Balance  NumOfProducts  \\\n",
            "0          619    France  Female   42       2       0.00              1   \n",
            "1          608     Spain  Female   41       1   83807.86              1   \n",
            "2          502    France  Female   42       8  159660.80              3   \n",
            "3          699    France  Female   39       1       0.00              2   \n",
            "4          850     Spain  Female   43       2  125510.82              1   \n",
            "\n",
            "   HasCrCard  IsActiveMember  EstimatedSalary  \n",
            "0          1               1        101348.88  \n",
            "1          0               1        112542.58  \n",
            "2          1               0        113931.57  \n",
            "3          0               0         93826.63  \n",
            "4          1               1         79084.10  \n"
          ]
        }
      ]
    },
    {
      "cell_type": "markdown",
      "source": [
        "5. Crie uma variável (array) y que contenha apenas a última coluna  (\"Exited\"). Esta é a variável destino (\"target\" ou saída)\n"
      ],
      "metadata": {
        "id": "1JYxzp4ww5Ru"
      }
    },
    {
      "cell_type": "code",
      "source": [
        "y = df_cleaned['Exited']\n",
        "print(y.head())"
      ],
      "metadata": {
        "colab": {
          "base_uri": "https://localhost:8080/"
        },
        "id": "NGgCq_Lqw_Y0",
        "outputId": "759126c4-6e3b-4aab-d9ec-ee0c1b91ab27"
      },
      "execution_count": 38,
      "outputs": [
        {
          "output_type": "stream",
          "name": "stdout",
          "text": [
            "0    1\n",
            "1    0\n",
            "2    1\n",
            "3    0\n",
            "4    0\n",
            "Name: Exited, dtype: int64\n"
          ]
        }
      ]
    },
    {
      "cell_type": "markdown",
      "source": [
        "6. Codifique a coluna da variável X correspondente a variável categórica \"Gender\" como numérica utilizando a classe LabelEncoder da biblioteca scikit-learn;\n"
      ],
      "metadata": {
        "id": "yldXcDb0xk6S"
      }
    },
    {
      "cell_type": "code",
      "source": [
        "from sklearn.preprocessing import LabelEncoder\n",
        "\n",
        "le = LabelEncoder()\n",
        "\n",
        "X['Gender'] = le.fit_transform(X['Gender'])\n",
        "\n",
        "print(X.head())"
      ],
      "metadata": {
        "colab": {
          "base_uri": "https://localhost:8080/"
        },
        "id": "XrBG-pu5xsa7",
        "outputId": "b12a5623-b526-4c8b-e964-aa6714f02b57"
      },
      "execution_count": 39,
      "outputs": [
        {
          "output_type": "stream",
          "name": "stdout",
          "text": [
            "   CreditScore Geography  Gender  Age  Tenure    Balance  NumOfProducts  \\\n",
            "0          619    France       0   42       2       0.00              1   \n",
            "1          608     Spain       0   41       1   83807.86              1   \n",
            "2          502    France       0   42       8  159660.80              3   \n",
            "3          699    France       0   39       1       0.00              2   \n",
            "4          850     Spain       0   43       2  125510.82              1   \n",
            "\n",
            "   HasCrCard  IsActiveMember  EstimatedSalary  \n",
            "0          1               1        101348.88  \n",
            "1          0               1        112542.58  \n",
            "2          1               0        113931.57  \n",
            "3          0               0         93826.63  \n",
            "4          1               1         79084.10  \n"
          ]
        }
      ]
    },
    {
      "cell_type": "markdown",
      "source": [
        "7. Codifique a coluna da variável X correspondente a variável categórica \"Geography\" como numérica por meio de Codificação de Variável Fictícia (Dummy Variable Encoding). Observe que há 3 países (categorias) diferentes. Atenção: você deve transformar o resultado da variável/coluna \"Geography\" para o formato binário (one-hot) de modo que fique representado por apenas duas colunas (de 0s e 1s). Além disso, essas duas novas colunas devem permanecer na mesma variável X. Dica: verifique a utilização da função make_column_transformerLinks to an external site. da biblioteca scikit-learn. Alternativamente, você pode utilizar a função pandas.get_dummies."
      ],
      "metadata": {
        "id": "18K3OBykylfQ"
      }
    },
    {
      "cell_type": "code",
      "source": [
        "from sklearn.compose import ColumnTransformer\n",
        "from sklearn.preprocessing import OneHotEncoder\n",
        "\n",
        "# Verificar se a coluna 'Geography' está presente no dataset\n",
        "if 'Geography' not in X.columns:\n",
        "    print(\"Coluna Geography não encontrada no dataset.\")\n",
        "else:\n",
        "    # Criando o transformer para a coluna 'Geography' com one-hot encoding\n",
        "    column_transformer = ColumnTransformer(\n",
        "        transformers=[\n",
        "            ('geo', OneHotEncoder(drop='first'), ['Geography'])\n",
        "        ],\n",
        "        remainder='passthrough'  # Manter as outras colunas sem alterações\n",
        "    )\n",
        "\n",
        "    # Aplicando a transformação no X\n",
        "    X = column_transformer.fit_transform(X)\n",
        "\n",
        "    # Exibindo as primeiras linhas para verificar o formato resultante\n",
        "    print(X[:5])\n",
        "\n"
      ],
      "metadata": {
        "colab": {
          "base_uri": "https://localhost:8080/"
        },
        "id": "TBxd02i-yuKt",
        "outputId": "cbc4b56e-7287-4b1a-e5b8-b186229dffd4"
      },
      "execution_count": 40,
      "outputs": [
        {
          "output_type": "stream",
          "name": "stdout",
          "text": [
            "[[0.0000000e+00 0.0000000e+00 6.1900000e+02 0.0000000e+00 4.2000000e+01\n",
            "  2.0000000e+00 0.0000000e+00 1.0000000e+00 1.0000000e+00 1.0000000e+00\n",
            "  1.0134888e+05]\n",
            " [0.0000000e+00 1.0000000e+00 6.0800000e+02 0.0000000e+00 4.1000000e+01\n",
            "  1.0000000e+00 8.3807860e+04 1.0000000e+00 0.0000000e+00 1.0000000e+00\n",
            "  1.1254258e+05]\n",
            " [0.0000000e+00 0.0000000e+00 5.0200000e+02 0.0000000e+00 4.2000000e+01\n",
            "  8.0000000e+00 1.5966080e+05 3.0000000e+00 1.0000000e+00 0.0000000e+00\n",
            "  1.1393157e+05]\n",
            " [0.0000000e+00 0.0000000e+00 6.9900000e+02 0.0000000e+00 3.9000000e+01\n",
            "  1.0000000e+00 0.0000000e+00 2.0000000e+00 0.0000000e+00 0.0000000e+00\n",
            "  9.3826630e+04]\n",
            " [0.0000000e+00 1.0000000e+00 8.5000000e+02 0.0000000e+00 4.3000000e+01\n",
            "  2.0000000e+00 1.2551082e+05 1.0000000e+00 1.0000000e+00 1.0000000e+00\n",
            "  7.9084100e+04]]\n"
          ]
        }
      ]
    },
    {
      "cell_type": "markdown",
      "source": [
        "8. Divida as variáveis X e y em dados de treino e de teste utilizando o método \"train_test_split\", gerando as variáveis X_train, X_test, y_train e y_test. Você define a proporção de dados de treino e de teste;"
      ],
      "metadata": {
        "id": "GZN2Jasz0ENJ"
      }
    },
    {
      "cell_type": "code",
      "source": [
        "from sklearn.model_selection import train_test_split\n",
        "\n",
        "X_train, X_test, y_train, y_test = train_test_split(X, y, test_size=0.2, random_state=42)\n",
        "\n",
        "print(f\"X_train shape: {X_train.shape}\")\n",
        "print(f\"X_test shape: {X_test.shape}\")\n",
        "print(f\"y_train shape: {y_train.shape}\")\n",
        "print(f\"y_test shape: {y_test.shape}\")\n"
      ],
      "metadata": {
        "colab": {
          "base_uri": "https://localhost:8080/"
        },
        "id": "xqt1I3sj0KEu",
        "outputId": "bd6d6c2b-3702-40a8-ab8f-8d33ef26a3f4"
      },
      "execution_count": 25,
      "outputs": [
        {
          "output_type": "stream",
          "name": "stdout",
          "text": [
            "X_train shape: (8000, 11)\n",
            "X_test shape: (2000, 11)\n",
            "y_train shape: (8000,)\n",
            "y_test shape: (2000,)\n"
          ]
        }
      ]
    },
    {
      "cell_type": "markdown",
      "source": [
        "9. Faça a padronização (escalonamento) dos valores das variáveis contidos no X_train utilizando a classe StandardScaler do scikit-learn e, depois, já aplique no X_test;"
      ],
      "metadata": {
        "id": "hpEIxbFi0gqX"
      }
    },
    {
      "cell_type": "code",
      "source": [
        "from sklearn.preprocessing import StandardScaler\n",
        "\n",
        "\n",
        "scaler = StandardScaler()\n",
        "\n",
        "\n",
        "X_train_scaled = scaler.fit_transform(X_train)\n",
        "\n",
        "\n",
        "X_test_scaled = scaler.transform(X_test)\n",
        "\n",
        "\n",
        "print(\"X_train (padronizado):\\n\", X_train_scaled[:5])\n",
        "print(\"\\nX_test (padronizado):\\n\", X_test_scaled[:5])\n"
      ],
      "metadata": {
        "colab": {
          "base_uri": "https://localhost:8080/"
        },
        "id": "m42E3RGM0iu4",
        "outputId": "d6a428f0-0e89-4405-852f-0e335a9dc795"
      },
      "execution_count": 27,
      "outputs": [
        {
          "output_type": "stream",
          "name": "stdout",
          "text": [
            "X_train (padronizado):\n",
            " [[ 0.35649971  0.91324755 -0.6557859   0.34567966 -1.21847056  0.80843615\n",
            "   0.64920267  0.97481699  1.36766974 -0.57946723 -0.57638802]\n",
            " [-0.20389777  0.91324755  0.29493847 -0.3483691   0.69683765  0.80843615\n",
            "   0.64920267  0.97481699  1.6612541   1.72572313 -0.57638802]\n",
            " [-0.96147213  0.91324755 -1.41636539 -0.69539349  0.61862909 -0.91668767\n",
            "   0.64920267 -1.02583358 -0.25280688 -0.57946723  1.73494238]\n",
            " [-0.94071667 -1.09499335 -1.13114808  1.38675281  0.95321202 -0.91668767\n",
            "   0.64920267 -1.02583358  0.91539272 -0.57946723 -0.57638802]\n",
            " [-1.39733684  0.91324755  1.62595257  1.38675281  1.05744869 -0.91668767\n",
            "  -1.54035103 -1.02583358 -1.05960019 -0.57946723 -0.57638802]]\n",
            "\n",
            "X_test (padronizado):\n",
            " [[-0.57749609  0.91324755 -0.6557859  -0.69539349  0.32993735  0.80843615\n",
            "  -1.54035103 -1.02583358 -1.01960511  1.72572313 -0.57638802]\n",
            " [-0.29729735  0.91324755  0.3900109  -1.38944225 -1.21847056  0.80843615\n",
            "   0.64920267  0.97481699  0.79888291 -0.57946723 -0.57638802]\n",
            " [-0.52560743 -1.09499335  0.48508334 -0.3483691  -1.21847056  0.80843615\n",
            "   0.64920267 -1.02583358 -0.72797953 -0.57946723  1.73494238]\n",
            " [-1.51149188  0.91324755  1.91116988  1.03972843  0.68927246  0.80843615\n",
            "   0.64920267  0.97481699  1.22138664  1.72572313 -0.57638802]\n",
            " [-0.9510944  -1.09499335 -1.13114808  0.69270405  0.78283876 -0.91668767\n",
            "   0.64920267  0.97481699  0.24756011 -0.57946723  1.73494238]]\n"
          ]
        }
      ]
    },
    {
      "cell_type": "markdown",
      "source": [
        "10. Execute todo o código e submeta o arquivo do notebook aqui na tarefa."
      ],
      "metadata": {
        "id": "tZPUzzZ90v1M"
      }
    }
  ],
  "metadata": {
    "colab": {
      "name": "Olá, este é o Colaboratory",
      "toc_visible": true,
      "provenance": [],
      "include_colab_link": true
    },
    "kernelspec": {
      "display_name": "Python 3",
      "name": "python3"
    }
  },
  "nbformat": 4,
  "nbformat_minor": 0
}