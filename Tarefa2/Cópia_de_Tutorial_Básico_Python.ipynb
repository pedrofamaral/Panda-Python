{
  "nbformat": 4,
  "nbformat_minor": 0,
  "metadata": {
    "colab": {
      "provenance": [],
      "include_colab_link": true
    },
    "kernelspec": {
      "display_name": "Python 3",
      "language": "python",
      "name": "python3"
    },
    "language_info": {
      "codemirror_mode": {
        "name": "ipython",
        "version": 3
      },
      "file_extension": ".py",
      "mimetype": "text/x-python",
      "name": "python",
      "nbconvert_exporter": "python",
      "pygments_lexer": "ipython3",
      "version": "3.7.6"
    }
  },
  "cells": [
    {
      "cell_type": "markdown",
      "metadata": {
        "id": "view-in-github",
        "colab_type": "text"
      },
      "source": [
        "<a href=\"https://colab.research.google.com/github/pedrofamaral/Panda-Python/blob/main/C%C3%B3pia_de_Tutorial_B%C3%A1sico_Python.ipynb\" target=\"_parent\"><img src=\"https://colab.research.google.com/assets/colab-badge.svg\" alt=\"Open In Colab\"/></a>"
      ]
    },
    {
      "cell_type": "markdown",
      "metadata": {
        "id": "dzNng6vCL9eP"
      },
      "source": [
        "#Tutorial Básico da linguagem Python"
      ]
    },
    {
      "cell_type": "markdown",
      "metadata": {
        "id": "0vJLt3JRL9eR"
      },
      "source": [
        "Este tutorial apresenta uma introdução a alguns aspectos da linguagem de programação Python. As informações apresentadas aqui não cobrirão todos os detalhes desta linguagem. No entanto, livros inteiros se concentram em Python.  O leitor é encorajado a consultar fontes adicionais na linguagem Python. Um tutorial completo pode ser consultado em: https://docs.python.org/pt-br/3/tutorial/."
      ]
    },
    {
      "cell_type": "markdown",
      "metadata": {
        "id": "qVrTo-LhL9eS"
      },
      "source": [
        "##Introdução"
      ]
    },
    {
      "cell_type": "markdown",
      "metadata": {
        "id": "9t1gKp9PL9eV"
      },
      "source": [
        "A linguagem Python foi desenvolvida em 1991 pelo holandês Guido van Rossum. Python é uma linguagem de propósito geral, visualmente limpa e de sintaxe elegante, que não faz uso excessivo de marcações (ponto ou ponto e vírgula), marcadores (chaves, colchetes ou parênteses) e de palavras especiais (begin/end).\n",
        "\n",
        "Considerada de fácil aprendizado, compreensão e leitura. É uma linguagem interpretada com tipagem dinâmica (não exige declarações de tipos de dados) que pode ser facilmente transformada para uma aplicação por meio da importação de bibliotecas. É uma linguagem de alto nível, orientada a objetos, mas que permite o usuário programar de forma procedural, se desejar;\n",
        "\n",
        "Em Python a identação é fundamental, pois o código não irá funcionar se não estiver devidamente identado (artifício que indica quais estruturas estão subordinadas sem a necessidade de uso de chaves como acontece em outras linguagens);\n",
        "\n",
        "Python é um software livre (usuários e colaboradores podem modificar seu código fonte e compartilhar essas novas atualizações, contribuindo para o constante aperfeiçoamento da linguagem).\n",
        "\n"
      ]
    },
    {
      "cell_type": "markdown",
      "metadata": {
        "id": "nxvEkGXPM3Xh"
      },
      "source": [
        "###Versão do Python"
      ]
    },
    {
      "cell_type": "code",
      "metadata": {
        "id": "1L4Am0QATgOc"
      },
      "source": [
        "!python --version"
      ],
      "execution_count": null,
      "outputs": []
    },
    {
      "cell_type": "markdown",
      "metadata": {
        "id": "NwS_hu4xL9eo"
      },
      "source": [
        "###Comando de saída (impressão)"
      ]
    },
    {
      "cell_type": "code",
      "metadata": {
        "id": "SM0NWpEQeYNd",
        "outputId": "3b93b471-b1fd-4a54-fc82-ed846e15a9db",
        "colab": {
          "base_uri": "https://localhost:8080/"
        }
      },
      "source": [
        "print(\"Hello World!\")"
      ],
      "execution_count": null,
      "outputs": [
        {
          "output_type": "stream",
          "name": "stdout",
          "text": [
            "Hello World!\n"
          ]
        }
      ]
    },
    {
      "cell_type": "markdown",
      "metadata": {
        "id": "Md5c2Pvxel9o"
      },
      "source": [
        "###Comentários"
      ]
    },
    {
      "cell_type": "code",
      "metadata": {
        "id": "L5cURl2CV-i-",
        "outputId": "0bc5d2c9-4661-4eba-d12d-e286e2965a56",
        "colab": {
          "base_uri": "https://localhost:8080/"
        }
      },
      "source": [
        "# Comentário de uma única linha (não tem efeito no programa)\n",
        "print(\"Hello World!\") # Diga alô mundo"
      ],
      "execution_count": null,
      "outputs": [
        {
          "output_type": "stream",
          "name": "stdout",
          "text": [
            "Hello World!\n"
          ]
        }
      ]
    },
    {
      "cell_type": "markdown",
      "metadata": {
        "id": "AMSN_ZWAeOQ4"
      },
      "source": [
        "###Variáveis\n",
        "\n",
        "Uma variável não pode ser utilizada em uma expressão sem ter sido inicializada. A tipagem é dinâmica."
      ]
    },
    {
      "cell_type": "code",
      "metadata": {
        "id": "2Sm00f7ofzHt",
        "outputId": "38127b96-872f-46e4-82e6-079a7e999305",
        "colab": {
          "base_uri": "https://localhost:8080/"
        }
      },
      "source": [
        "preco  = 1000\n",
        "desconto = 1\n",
        "preco_final = preco - desconto * preco\n",
        "print(preco_final)\n",
        "print(type(preco_final))"
      ],
      "execution_count": null,
      "outputs": [
        {
          "output_type": "stream",
          "name": "stdout",
          "text": [
            "0\n",
            "<class 'int'>\n"
          ]
        }
      ]
    },
    {
      "cell_type": "markdown",
      "metadata": {
        "id": "j7EB7oYXha7d"
      },
      "source": [
        "Também podemos inicializar mais de uma variável:"
      ]
    },
    {
      "cell_type": "code",
      "metadata": {
        "id": "fYrxnyothdGT",
        "outputId": "ad3afac5-d86c-455a-81ae-803563a00975",
        "colab": {
          "base_uri": "https://localhost:8080/"
        }
      },
      "source": [
        "a, b = 10, 200\n",
        "print('a vai ser =', a, 'e b vai ser =', b)"
      ],
      "execution_count": null,
      "outputs": [
        {
          "output_type": "stream",
          "name": "stdout",
          "text": [
            "a vai ser = 10 e b vai ser = 200\n"
          ]
        }
      ]
    },
    {
      "cell_type": "markdown",
      "metadata": {
        "id": "w8O8jBMChxFb"
      },
      "source": [
        "Podemos iniciar as variáveis com o valor None."
      ]
    },
    {
      "cell_type": "code",
      "metadata": {
        "id": "GAyy6iZGhyjR",
        "outputId": "5d9a0b2a-a40b-4fb9-b5ac-2ff6900069b2",
        "colab": {
          "base_uri": "https://localhost:8080/"
        }
      },
      "source": [
        "str = \"Pedro\"\n",
        "x = str\n",
        "print(x)\n",
        "print(type(x))"
      ],
      "execution_count": null,
      "outputs": [
        {
          "output_type": "stream",
          "name": "stdout",
          "text": [
            "Pedro\n",
            "<class 'str'>\n"
          ]
        }
      ]
    },
    {
      "cell_type": "markdown",
      "metadata": {
        "id": "YoRJvulPiUK7"
      },
      "source": [
        "###Operadores aritméticos"
      ]
    },
    {
      "cell_type": "code",
      "metadata": {
        "id": "sk_8DFcuL9ey",
        "outputId": "c5d15988-666c-4090-ecf7-cdba22761b95",
        "colab": {
          "base_uri": "https://localhost:8080/"
        }
      },
      "source": [
        "x = 10\n",
        "print(type(x))\n",
        "print(x + 1)   # Adição\n",
        "print(x - 1)   # Subtração\n",
        "print(x * 2)   # Multiplicação\n",
        "print(x ** 2)  # Exponenciação"
      ],
      "execution_count": null,
      "outputs": [
        {
          "output_type": "stream",
          "name": "stdout",
          "text": [
            "<class 'int'>\n",
            "11\n",
            "9\n",
            "20\n",
            "100\n"
          ]
        }
      ]
    },
    {
      "cell_type": "code",
      "metadata": {
        "id": "U4Jl8K0tL9e4",
        "outputId": "17856282-7641-4f8c-b988-68ab8c6fc8c6",
        "colab": {
          "base_uri": "https://localhost:8080/"
        }
      },
      "source": [
        "x=-5\n",
        "while(x<0):\n",
        "    x += 1\n",
        "print(x)\n",
        "x *= 2\n",
        "print(x)"
      ],
      "execution_count": null,
      "outputs": [
        {
          "output_type": "stream",
          "name": "stdout",
          "text": [
            "0\n",
            "0\n"
          ]
        }
      ]
    },
    {
      "cell_type": "markdown",
      "metadata": {
        "id": "EqRS7qhBL9fC"
      },
      "source": [
        "###Booleanos (lógicos)"
      ]
    },
    {
      "cell_type": "markdown",
      "metadata": {
        "id": "Nv_LIVOJL9fD"
      },
      "source": [
        "Python implementa todos os operadores usuais para lógica booleana, mas usa palavras em inglês em vez de símbolos (&&, ||, etc.):"
      ]
    },
    {
      "cell_type": "code",
      "metadata": {
        "id": "RvoImwgGL9fE",
        "outputId": "76b703a2-c954-4aeb-d236-90735623e2ac",
        "colab": {
          "base_uri": "https://localhost:8080/"
        }
      },
      "source": [
        "t, f = True, False\n",
        "print(type(t))"
      ],
      "execution_count": null,
      "outputs": [
        {
          "output_type": "stream",
          "name": "stdout",
          "text": [
            "<class 'bool'>\n"
          ]
        }
      ]
    },
    {
      "cell_type": "markdown",
      "metadata": {
        "id": "YQgmQfOgL9fI"
      },
      "source": [
        "Algumas operações lógicas:"
      ]
    },
    {
      "cell_type": "code",
      "metadata": {
        "id": "6zYm7WzCL9fK",
        "outputId": "938ffef6-8819-4895-a9ab-9f28a984b666",
        "colab": {
          "base_uri": "https://localhost:8080/"
        }
      },
      "source": [
        "print(t and f)\n",
        "print(t or f)\n",
        "print(not t)\n",
        "print(t != f)"
      ],
      "execution_count": null,
      "outputs": [
        {
          "output_type": "stream",
          "name": "stdout",
          "text": [
            "False\n",
            "True\n",
            "False\n",
            "True\n"
          ]
        }
      ]
    },
    {
      "cell_type": "markdown",
      "metadata": {
        "id": "UQnQWFEyL9fP"
      },
      "source": [
        "###Strings"
      ]
    },
    {
      "cell_type": "code",
      "metadata": {
        "id": "AijEDtPFL9fP",
        "outputId": "d3df4adf-dc0d-47fc-920a-0cf369e5ec67",
        "colab": {
          "base_uri": "https://localhost:8080/"
        }
      },
      "source": [
        "hello = 'hello'   # Strings podem usar aspas simples\n",
        "world = \"world\"   # ou duplas\n",
        "print(hello, len(hello))"
      ],
      "execution_count": null,
      "outputs": [
        {
          "output_type": "stream",
          "name": "stdout",
          "text": [
            "hello 5\n"
          ]
        }
      ]
    },
    {
      "cell_type": "code",
      "metadata": {
        "id": "saDeaA7hL9fT",
        "outputId": "7e1928b2-528b-40c5-efd2-d5221728a4d4",
        "colab": {
          "base_uri": "https://localhost:8080/"
        }
      },
      "source": [
        "hw = hello + ' ' + world  # concatenação\n",
        "print(hw)"
      ],
      "execution_count": null,
      "outputs": [
        {
          "output_type": "stream",
          "name": "stdout",
          "text": [
            "hello world\n"
          ]
        }
      ]
    },
    {
      "cell_type": "markdown",
      "metadata": {
        "id": "bUpl35bIL9fc"
      },
      "source": [
        "Alguns métodos aplicados em strings:"
      ]
    },
    {
      "cell_type": "code",
      "metadata": {
        "id": "VOxGatlsL9fd",
        "outputId": "6c733524-dfa5-48bb-8d06-80c69cb41035",
        "colab": {
          "base_uri": "https://localhost:8080/"
        }
      },
      "source": [
        "s = \"hello\"\n",
        "print(s.capitalize())  # Capitalize\n",
        "print(s.upper())       # Caixa alta\n",
        "print(s.lower())       # Caixa baixa\n",
        "print(s.rjust(15))      # Justifica à direita preenchendo com espaços\n",
        "print(s.center(7))     # Centraliza preenchendo com espaços\n",
        "print(s.replace('l', '(ell)'))  # Substitui todas as instâncias de uma substring com outra"
      ],
      "execution_count": null,
      "outputs": [
        {
          "output_type": "stream",
          "name": "stdout",
          "text": [
            "Hello\n",
            "HELLO\n",
            "hello\n",
            "          hello\n",
            " hello \n",
            "he(ell)(ell)o\n"
          ]
        }
      ]
    },
    {
      "cell_type": "markdown",
      "metadata": {
        "id": "tRI6DV1Pm799"
      },
      "source": [
        "Acessando pelo índice:"
      ]
    },
    {
      "cell_type": "code",
      "metadata": {
        "id": "eFg9aeqFm61c",
        "outputId": "49ef3d46-9855-4060-97cb-bc232c26025a",
        "colab": {
          "base_uri": "https://localhost:8080/"
        }
      },
      "source": [
        "str = 'pyhton'\n",
        "print(str[0])\n",
        "print(str[1])"
      ],
      "execution_count": null,
      "outputs": [
        {
          "output_type": "stream",
          "name": "stdout",
          "text": [
            "p\n",
            "y\n"
          ]
        }
      ]
    },
    {
      "cell_type": "markdown",
      "metadata": {
        "id": "7U3uDVJynrCq"
      },
      "source": [
        "###Cast - conversão de tipos"
      ]
    },
    {
      "cell_type": "code",
      "metadata": {
        "id": "KXH4Uekvnt3_",
        "outputId": "0b5c363b-8a31-40f8-85db-28d26b146d83",
        "colab": {
          "base_uri": "https://localhost:8080/"
        }
      },
      "source": [
        "x = 123\n",
        "print(x)\n",
        "print(type(x))\n",
        "x = float(x)\n",
        "print(x)\n",
        "print(type(x))\n",
        "print(int(x))"
      ],
      "execution_count": null,
      "outputs": [
        {
          "output_type": "stream",
          "name": "stdout",
          "text": [
            "123\n",
            "<class 'int'>\n",
            "123.0\n",
            "<class 'float'>\n",
            "123\n"
          ]
        }
      ]
    },
    {
      "cell_type": "markdown",
      "metadata": {
        "id": "207J7XcYpJCU"
      },
      "source": [
        "###Print de texto com variáveis"
      ]
    },
    {
      "cell_type": "code",
      "metadata": {
        "id": "R6Ix-7BfpNL_",
        "outputId": "09dc8b1d-748f-4e4c-905a-7ac29721718f",
        "colab": {
          "base_uri": "https://localhost:8080/"
        }
      },
      "source": [
        "x = 5\n",
        "y = 2.5\n",
        "z = 'oi'\n",
        "print('x é igual a %d, y é igual a %.1f e z é igual a \\\"%s\\\" '%(x,y,z))\n",
        "print('x é igual a {}, y é igual a {} e z é igual a \\\"{}\\\" '.format(x,y,z))  # alternativa (existem outras)"
      ],
      "execution_count": null,
      "outputs": [
        {
          "output_type": "stream",
          "name": "stdout",
          "text": [
            "x é igual a 5, y é igual a 2.5 e z é igual a \"oi\" \n",
            "x é igual a 5, y é igual a 2.5 e z é igual a \"oi\" \n"
          ]
        }
      ]
    },
    {
      "cell_type": "markdown",
      "metadata": {
        "id": "Z3Z6StZo12gz"
      },
      "source": [
        "### Leitura de dados (entradas)\n",
        "\n"
      ]
    },
    {
      "cell_type": "code",
      "metadata": {
        "id": "LaQTOLOB2TKj",
        "outputId": "030c1cb7-7454-4aec-aee2-b18a4ca1b9ea",
        "colab": {
          "base_uri": "https://localhost:8080/"
        }
      },
      "source": [
        "x = int(input(\"Entre com um valor inteiro: \"))\n",
        "print(x)\n",
        "y = float(input(\"Entre com um valor real: \"))\n",
        "print('O valor digitado foi %d'%(y))\n",
        "s = input(\"Digite um texto: \") # os dados de entrada serão strings por padrão\n",
        "print(s)\n",
        "print(type(s))"
      ],
      "execution_count": null,
      "outputs": [
        {
          "output_type": "stream",
          "name": "stdout",
          "text": [
            "Entre com um valor inteiro: 20\n",
            "20\n",
            "Entre com um valor real: 12\n",
            "O valor digitado foi 12\n",
            "Digite um texto: pedro\n",
            "pedro\n",
            "<class 'str'>\n"
          ]
        }
      ]
    },
    {
      "cell_type": "markdown",
      "metadata": {
        "id": "YblHAXGyzune"
      },
      "source": [
        "###Estruturas de controle de seleção (if-else)"
      ]
    },
    {
      "cell_type": "code",
      "metadata": {
        "id": "5ynPUUebzyy8",
        "outputId": "b925f3b1-f1b7-4fb6-8399-75aea16b3b58",
        "colab": {
          "base_uri": "https://localhost:8080/"
        }
      },
      "source": [
        "expressao = 0\n",
        "resp = -2\n",
        "if expressao == True:\n",
        "    print(\"true\")\n",
        "else:\n",
        "    print(\"false\")\n",
        "if resp > 5:\n",
        "    print(resp)\n",
        "    print(\"positivo\")  #observe que o bloco é definido pela identação\n",
        "elif resp < 5:\n",
        "    print(resp)\n",
        "    print(\"negativo\")  #observe que o bloco é definido pela identação\n",
        "else:\n",
        "    print(resp)\n",
        "    print(\"nulo\")  #observe que o bloco é definido pela identação"
      ],
      "execution_count": null,
      "outputs": [
        {
          "output_type": "stream",
          "name": "stdout",
          "text": [
            "false\n",
            "-2\n",
            "negativo\n"
          ]
        }
      ]
    },
    {
      "cell_type": "markdown",
      "metadata": {
        "id": "OK9zArla0xb4"
      },
      "source": [
        "###Estruturas de controle de repetição"
      ]
    },
    {
      "cell_type": "markdown",
      "metadata": {
        "id": "QETP0ccd3TOw"
      },
      "source": [
        "###For"
      ]
    },
    {
      "cell_type": "code",
      "metadata": {
        "id": "w8JM1se-02DY",
        "outputId": "23b67d45-02d7-4b81-e4b7-244bc91e97cb",
        "colab": {
          "base_uri": "https://localhost:8080/"
        }
      },
      "source": [
        " soma = 0\n",
        " N = 5\n",
        " for contador in range(5):  # A função range() retorna uma série numérica no intervalo enviado como argumento\n",
        "    x = int(input(\"Entre com um valor inteiro: \"))\n",
        "    soma = soma + x\n",
        " # imprima o resultado\n",
        " print (\"O valor da soma dos\", N, \"numeros é\", soma)"
      ],
      "execution_count": null,
      "outputs": [
        {
          "output_type": "stream",
          "name": "stdout",
          "text": [
            "Entre com um valor inteiro: 20\n",
            "Entre com um valor inteiro: 12\n",
            "Entre com um valor inteiro: 3\n",
            "Entre com um valor inteiro: 3\n",
            "Entre com um valor inteiro: 2\n",
            "O valor da soma dos 5 numeros é 40\n"
          ]
        }
      ]
    },
    {
      "cell_type": "markdown",
      "metadata": {
        "id": "8IdOol0s34ID"
      },
      "source": [
        "###While"
      ]
    },
    {
      "cell_type": "code",
      "metadata": {
        "id": "F4FyMrvk35Z6",
        "outputId": "ebdc16a9-43ab-49d2-b569-92b2e08647b9",
        "colab": {
          "base_uri": "https://localhost:8080/"
        }
      },
      "source": [
        "soma = 0\n",
        "contador = 1\n",
        "N = 5\n",
        "# repete N vezes o trecho de programa\n",
        "while contador <= N:\n",
        "    x = int(input(\"Entre com um valor inteiro: \"))\n",
        "    soma = soma + x\n",
        "    contador = contador + 1\n",
        " # imprima o resultado\n",
        "print (\"O valor da soma dos\", N, \"numeros é\", soma)"
      ],
      "execution_count": null,
      "outputs": [
        {
          "output_type": "stream",
          "name": "stdout",
          "text": [
            "Entre com um valor inteiro: 3\n",
            "Entre com um valor inteiro: 2\n",
            "Entre com um valor inteiro: 3\n",
            "Entre com um valor inteiro: 3\n",
            "Entre com um valor inteiro: 3\n",
            "O valor da soma dos 5 numeros é 14\n"
          ]
        }
      ]
    },
    {
      "cell_type": "markdown",
      "metadata": {
        "id": "p-6hClFjL9fk"
      },
      "source": [
        "###Containers"
      ]
    },
    {
      "cell_type": "markdown",
      "metadata": {
        "id": "FD9H18eQL9fk"
      },
      "source": [
        "Python inclue diversos tipos de \"containers\": listas, dicionários, conjuntos e tuplas."
      ]
    },
    {
      "cell_type": "markdown",
      "metadata": {
        "id": "UsIWOe0LL9fn"
      },
      "source": [
        "###Listas"
      ]
    },
    {
      "cell_type": "markdown",
      "metadata": {
        "id": "wzxX7rgWL9fn"
      },
      "source": [
        "Uma lista é equivalente a um vetor (array), mas seu tamanho pode ser modificado e pode conter elementos de diferentes tipos."
      ]
    },
    {
      "cell_type": "code",
      "metadata": {
        "id": "hk3A8pPcL9fp",
        "outputId": "bc896406-a514-45b3-e4c1-f5cd0f81fde4",
        "colab": {
          "base_uri": "https://localhost:8080/"
        }
      },
      "source": [
        "list = [3, 1, 'Márcio']   # Cria uma lista\n",
        "print(list)\n",
        "print(list[0])\n",
        "print(list[-1])     # Índices negativos contam a partir do final da lista\n",
        "print(type(list))"
      ],
      "execution_count": null,
      "outputs": [
        {
          "output_type": "stream",
          "name": "stdout",
          "text": [
            "[3, 1, 'Márcio']\n",
            "3\n",
            "Márcio\n",
            "<class 'list'>\n"
          ]
        }
      ]
    },
    {
      "cell_type": "markdown",
      "metadata": {
        "id": "Ct6P9X_vwfwP"
      },
      "source": [
        "Adicionando um elemento no final da lista:"
      ]
    },
    {
      "cell_type": "code",
      "metadata": {
        "id": "vJ0x5cF-L9fx",
        "outputId": "477634f0-3bf5-4cdb-d03b-1b74cac2b139",
        "colab": {
          "base_uri": "https://localhost:8080/"
        }
      },
      "source": [
        "list.append('Leandro')\n",
        "print(list)"
      ],
      "execution_count": null,
      "outputs": [
        {
          "output_type": "stream",
          "name": "stdout",
          "text": [
            "[3, 1, 'Márcio', 'Leandro']\n"
          ]
        }
      ]
    },
    {
      "cell_type": "markdown",
      "metadata": {
        "id": "2ozSeRTqxKYh"
      },
      "source": [
        "Removendo o último elemento:"
      ]
    },
    {
      "cell_type": "code",
      "metadata": {
        "id": "cxVCNRTNL9f1",
        "outputId": "c45980ab-2cfe-4ead-e980-e6a51896e726",
        "colab": {
          "base_uri": "https://localhost:8080/"
        }
      },
      "source": [
        "x = list.pop(2)     # Remove and return the last element of the list\n",
        "print(list)"
      ],
      "execution_count": null,
      "outputs": [
        {
          "output_type": "stream",
          "name": "stdout",
          "text": [
            "[3, 1]\n"
          ]
        }
      ]
    },
    {
      "cell_type": "markdown",
      "metadata": {
        "id": "ovahhxd_L9f5"
      },
      "source": [
        "###Slicing"
      ]
    },
    {
      "cell_type": "code",
      "metadata": {
        "id": "ninq666bL9f6",
        "outputId": "79019dbd-b2ab-433b-e737-9770b79ea72a",
        "colab": {
          "base_uri": "https://localhost:8080/"
        }
      },
      "source": [
        "nums = [0, 1, 2, 3, 4] # cria uma lista\n",
        "print(nums)         # Imprime \"[0, 1, 2, 3, 4]\"\n",
        "print(nums[2:4])    # Pega um slice do índice 2 a 4 (exclusive)\n",
        "print(nums[2:])     # Pega um slice do índice 2 até o fim\n",
        "print(nums[:2])     # Pega um slice do começo até o indice 2 (exclusive)\n",
        "print(nums[:])      # Pega a lista toda\"\n",
        "print(nums[:-1])    # Índices podem ser negativos (exclue o último elemento)\n",
        "print(nums[:-2])    # Índices podem ser negativos (exclue os dois últimos)\n",
        "nums[2:4] = [8, 9]  # Atribui a nova sublista\n",
        "print(nums)         # Prints \"[0, 1, 8, 9, 4]\""
      ],
      "execution_count": null,
      "outputs": [
        {
          "output_type": "stream",
          "name": "stdout",
          "text": [
            "[0, 1, 2, 3, 4]\n",
            "[2, 3]\n",
            "[2, 3, 4]\n",
            "[0, 1]\n",
            "[0, 1, 2, 3, 4]\n",
            "[0, 1, 2, 3]\n",
            "[0, 1, 2]\n",
            "[0, 1, 8, 9, 4]\n"
          ]
        }
      ]
    },
    {
      "cell_type": "markdown",
      "metadata": {
        "id": "UONpMhF4L9f_"
      },
      "source": [
        "### Loops com uma lista"
      ]
    },
    {
      "cell_type": "code",
      "metadata": {
        "id": "4cCOysfWL9gA",
        "outputId": "2f9d84a6-4400-4a95-85ff-d258cb18f154",
        "colab": {
          "base_uri": "https://localhost:8080/"
        }
      },
      "source": [
        "animais = ['cão', 'gato', 'macaco']\n",
        "for animal in animais:\n",
        "    print(animal)"
      ],
      "execution_count": null,
      "outputs": [
        {
          "output_type": "stream",
          "name": "stdout",
          "text": [
            "cão\n",
            "gato\n",
            "macaco\n"
          ]
        }
      ]
    },
    {
      "cell_type": "markdown",
      "metadata": {
        "id": "H8xsUEFpL9gZ"
      },
      "source": [
        "###Dicionários"
      ]
    },
    {
      "cell_type": "markdown",
      "metadata": {
        "id": "kkjAGMAJL9ga"
      },
      "source": [
        "Um dicionário armazena pares (chave, valor):"
      ]
    },
    {
      "cell_type": "code",
      "metadata": {
        "id": "XBYI1MrYL9gb",
        "outputId": "121f755b-ee31-4125-f956-3267cdf8de1c",
        "colab": {
          "base_uri": "https://localhost:8080/"
        }
      },
      "source": [
        "dic = {'gato': 'felino', 'cão': 'amigo'}  # cria um dicionário\n",
        "print(dic['gato'])  # Pega uma entrada a partir da chave\n",
        "print('macaco' in dic)  # Verifica se o dicionário tem uma determinada chave\n",
        "print(type(dic))"
      ],
      "execution_count": null,
      "outputs": [
        {
          "output_type": "stream",
          "name": "stdout",
          "text": [
            "felino\n",
            "False\n",
            "<class 'dict'>\n"
          ]
        }
      ]
    },
    {
      "cell_type": "code",
      "metadata": {
        "id": "pS7e-G-HL9gf",
        "outputId": "ad9f5e77-7626-49c4-b8ab-8b69ac1697c3",
        "colab": {
          "base_uri": "https://localhost:8080/"
        }
      },
      "source": [
        "dic['peixe'] = 'molhado' # Determina uma nova entrada no dicionário\n",
        "print(dic['peixe'])\n",
        "print(dic)"
      ],
      "execution_count": null,
      "outputs": [
        {
          "output_type": "stream",
          "name": "stdout",
          "text": [
            "molhado\n",
            "{'gato': 'felino', 'cão': 'amigo', 'peixe': 'molhado'}\n"
          ]
        }
      ]
    },
    {
      "cell_type": "code",
      "metadata": {
        "id": "0EItdNBJL9go",
        "outputId": "56371b6c-dd70-4adf-ab9c-8305337f606f",
        "colab": {
          "base_uri": "https://localhost:8080/"
        }
      },
      "source": [
        "del dic['peixe']  # Remove um elemento do dicionário\n",
        "print(dic)"
      ],
      "execution_count": null,
      "outputs": [
        {
          "output_type": "stream",
          "name": "stdout",
          "text": [
            "{'gato': 'felino', 'cão': 'amigo'}\n"
          ]
        }
      ]
    },
    {
      "cell_type": "markdown",
      "metadata": {
        "id": "V9MHfUdvL9g2"
      },
      "source": [
        "###Sets (conjuntos)"
      ]
    },
    {
      "cell_type": "markdown",
      "metadata": {
        "id": "Rpm4UtNpL9g2"
      },
      "source": [
        "Um conjunto (set) é uma coleção não indexada de elementos distintos."
      ]
    },
    {
      "cell_type": "code",
      "metadata": {
        "id": "MmyaniLsL9g2",
        "outputId": "77f7ee2c-e711-49d2-a157-9743d6906513",
        "colab": {
          "base_uri": "https://localhost:8080/"
        }
      },
      "source": [
        "animais = {'cão', 'gato'}\n",
        "print('gato' in animais)   # verifica se um elemento está no conjunti\n",
        "print('peixe' in animais)"
      ],
      "execution_count": null,
      "outputs": [
        {
          "output_type": "stream",
          "name": "stdout",
          "text": [
            "True\n",
            "False\n"
          ]
        }
      ]
    },
    {
      "cell_type": "code",
      "metadata": {
        "id": "ElJEyK86L9g6",
        "outputId": "d4230a4f-c0a2-4d93-c2dd-005568fda479",
        "colab": {
          "base_uri": "https://localhost:8080/"
        }
      },
      "source": [
        "animais.add('peixe')      # Adiciona um elemento\n",
        "print(animais)\n",
        "print(len(animais))"
      ],
      "execution_count": null,
      "outputs": [
        {
          "output_type": "stream",
          "name": "stdout",
          "text": [
            "{'cão', 'peixe', 'gato'}\n",
            "3\n"
          ]
        }
      ]
    },
    {
      "cell_type": "code",
      "metadata": {
        "id": "5uGmrxdPL9g9",
        "outputId": "b566c6f7-741c-4b52-bb65-7fc5d2db9abf",
        "colab": {
          "base_uri": "https://localhost:8080/"
        }
      },
      "source": [
        "animais.add('gato')       # Não adiciona um elemeneto que já existe no conjunto (não faz nada)\n",
        "print(len(animais))\n",
        "animais.remove('gato')    # Remove um elemento\n",
        "print(animais)"
      ],
      "execution_count": null,
      "outputs": [
        {
          "output_type": "stream",
          "name": "stdout",
          "text": [
            "3\n",
            "{'cão', 'peixe'}\n"
          ]
        }
      ]
    },
    {
      "cell_type": "markdown",
      "metadata": {
        "id": "qPsHSKB1L9hF"
      },
      "source": [
        "###Tuplas"
      ]
    },
    {
      "cell_type": "markdown",
      "metadata": {
        "id": "kucc0LKVL9hG"
      },
      "source": [
        "Uma tupla é uma lista ordenada (imutável) de valores. Uma tupla é em muitos aspectos semelhante a uma lista; uma das diferenças mais importantes é que tuplas podem ser usadas como chaves em dicionários e como elementos de conjuntos, enquanto listas não."
      ]
    },
    {
      "cell_type": "code",
      "metadata": {
        "id": "9wHUyTKxL9hH",
        "outputId": "523a1929-1236-404f-b3c9-5f62b578d4f1",
        "colab": {
          "base_uri": "https://localhost:8080/"
        }
      },
      "source": [
        "d = {(x, x + 1): x for x in range(10)}  # Cria um dicionário com chaves tuplas\n",
        "print(d)\n",
        "t = (5, 6)       # Cria uma tupla\n",
        "print(type(t))\n",
        "print(d[t])\n",
        "print(d[(1, 2)])"
      ],
      "execution_count": null,
      "outputs": [
        {
          "output_type": "stream",
          "name": "stdout",
          "text": [
            "{(0, 1): 0, (1, 2): 1, (2, 3): 2, (3, 4): 3, (4, 5): 4, (5, 6): 5, (6, 7): 6, (7, 8): 7, (8, 9): 8, (9, 10): 9}\n",
            "<class 'tuple'>\n",
            "5\n",
            "1\n"
          ]
        }
      ]
    },
    {
      "cell_type": "markdown",
      "metadata": {
        "id": "AXA4jrEOL9hM"
      },
      "source": [
        "###Funções"
      ]
    },
    {
      "cell_type": "markdown",
      "metadata": {
        "id": "WaRms-QfL9hN"
      },
      "source": [
        "Funções em Python são definidas usando a palavra chave `def`."
      ]
    },
    {
      "cell_type": "code",
      "metadata": {
        "id": "kiMDUr58L9hN",
        "outputId": "72d02363-6820-43f4-9683-cf20c2c4201f",
        "colab": {
          "base_uri": "https://localhost:8080/"
        }
      },
      "source": [
        "def sinal(x):\n",
        "    if x > 0:\n",
        "        return 'positivo'\n",
        "    elif x < 0:\n",
        "        return 'negativo'\n",
        "    else:\n",
        "        return 'zero'\n",
        "\n",
        "for x in [-1, 0, 23]:\n",
        "    print(sinal(x))"
      ],
      "execution_count": null,
      "outputs": [
        {
          "output_type": "stream",
          "name": "stdout",
          "text": [
            "negativo\n",
            "zero\n",
            "positivo\n"
          ]
        }
      ]
    },
    {
      "cell_type": "markdown",
      "metadata": {
        "id": "ObA9PRtQL9hT"
      },
      "source": [
        "###Classes"
      ]
    },
    {
      "cell_type": "markdown",
      "metadata": {
        "id": "hAzL_lTkL9hU"
      },
      "source": [
        "\n",
        "A sintaxe para definir classes em Python é direta:"
      ]
    },
    {
      "cell_type": "code",
      "metadata": {
        "id": "RWdbaGigL9hU",
        "outputId": "16835764-a61d-46de-d9b2-e78f8d277c23",
        "colab": {
          "base_uri": "https://localhost:8080/"
        }
      },
      "source": [
        "class Triangulo(object):\n",
        "\n",
        "    def __init__(self, angulo1, angulo2, angulo3):\n",
        "        self.angulo1 = angulo1\n",
        "        self.angulo2 = angulo2\n",
        "        self.angulo3 = angulo3\n",
        "\n",
        "    def soma_angulos(self):\n",
        "        return self.angulo1 + self.angulo2 + self.angulo3\n",
        "\n",
        "    def check_angulos(self):\n",
        "        if(self.soma_angulos() == 180):\n",
        "            return True\n",
        "        else:\n",
        "            return False\n",
        "\n",
        "figure = Triangulo(30, 40, 50)\n",
        "print(figure.soma_angulos())\n",
        "print(figure.check_angulos())"
      ],
      "execution_count": null,
      "outputs": [
        {
          "output_type": "stream",
          "name": "stdout",
          "text": [
            "120\n",
            "False\n"
          ]
        }
      ]
    },
    {
      "cell_type": "markdown",
      "metadata": {
        "id": "qjVPLEHYIqwr"
      },
      "source": [
        "###Imports\n",
        "\n",
        "Para importar um módulo utilizamos o import."
      ]
    },
    {
      "cell_type": "code",
      "metadata": {
        "id": "OdjOHphnItW8",
        "outputId": "fa54968f-8ff9-4727-cdf2-e1815ce24112",
        "colab": {
          "base_uri": "https://localhost:8080/"
        }
      },
      "source": [
        "import math\n",
        "print(math.sqrt(49))"
      ],
      "execution_count": null,
      "outputs": [
        {
          "output_type": "stream",
          "name": "stdout",
          "text": [
            "7.0\n"
          ]
        }
      ]
    },
    {
      "cell_type": "markdown",
      "metadata": {
        "id": "Rp5EvhATI2-h"
      },
      "source": [
        "\n",
        "O código acima importará todos os módulos de math, para importar apenas o necessário utilizamos from."
      ]
    },
    {
      "cell_type": "code",
      "metadata": {
        "id": "T_TB1BBxI6lh",
        "outputId": "616610e0-1020-48d3-f236-d47436691830",
        "colab": {
          "base_uri": "https://localhost:8080/"
        }
      },
      "source": [
        "from math import sqrt\n",
        "print(math.sqrt(49))"
      ],
      "execution_count": null,
      "outputs": [
        {
          "output_type": "stream",
          "name": "stdout",
          "text": [
            "7.0\n"
          ]
        }
      ]
    }
  ]
}
