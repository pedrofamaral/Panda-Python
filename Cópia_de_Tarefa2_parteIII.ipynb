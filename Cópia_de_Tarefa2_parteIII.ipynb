{
  "nbformat": 4,
  "nbformat_minor": 0,
  "metadata": {
    "colab": {
      "provenance": [],
      "include_colab_link": true
    },
    "kernelspec": {
      "name": "python3",
      "display_name": "Python 3"
    },
    "language_info": {
      "name": "python"
    },
    "accelerator": "GPU"
  },
  "cells": [
    {
      "cell_type": "markdown",
      "metadata": {
        "id": "view-in-github",
        "colab_type": "text"
      },
      "source": [
        "<a href=\"https://colab.research.google.com/github/pedrofamaral/Panda-Python/blob/main/C%C3%B3pia_de_Tarefa2_parteIII.ipynb\" target=\"_parent\"><img src=\"https://colab.research.google.com/assets/colab-badge.svg\" alt=\"Open In Colab\"/></a>"
      ]
    },
    {
      "cell_type": "markdown",
      "metadata": {
        "id": "xpAuMVCwfWs8"
      },
      "source": [
        "\n",
        "---\n",
        "\n",
        "---\n",
        "# Manipulação de dataframe - TAREFA 2 - Parte III\n",
        "---\n",
        "\n",
        "---\n",
        "\n",
        "\n",
        "\n",
        "\n",
        "\n"
      ]
    },
    {
      "cell_type": "markdown",
      "source": [
        "##1-) Leitura dos dados\n",
        "\n",
        "A base de dados [Churn_Modelling](https://github.com/malegopc/DSBD/blob/main/Datasets/Churn/Churn_Modelling.csv) é utilizada para prever (classificar) quando um cliente irá parar de utilizar o serviço de um banco.\n",
        "\n",
        "Conjunto de dados (características):\n",
        "\n",
        "* Número de Instâncias: 10.000\n",
        "\n",
        "* Número de Atributos: 13 atributos (incluindo o target)\n",
        "\n",
        "* Informações dos Atributos:\n",
        "\n",
        "  1. RowNumber\n",
        "  2. CustomerId\n",
        "  3. Surname\n",
        "  4. CreditScore\n",
        "  5. Geography\n",
        "  6. Gender Age\n",
        "  7. Tenure\n",
        "  8. Balance\n",
        "  9. NumOfProducts\n",
        "  10. HasCrCard\n",
        "  11. IsActiveMember\n",
        "  12. EstimatedSalary\n",
        "  13. Exited (variável de destino - target)\n",
        "\n",
        "*Clone o repositório de dados da disciplina (https://github.com/malegopc/DSBD), faça a leitura do arquivo **Churn_Modelling.csv** disponível na pasta [Churn_Modelling](https://github.com/malegopc/DSBD/blob/main/Datasets/Churn) e armazene-o numa variável do tipo dataframe. Basta utilizar a função [pd.read_csv](https://pandas.pydata.org/docs/reference/api/pandas.read_csv.html) da biblioteca pandas.*"
      ],
      "metadata": {
        "id": "h4hWkVHS1Gz3"
      }
    },
    {
      "cell_type": "code",
      "metadata": {
        "id": "dCHnPAsh1Hi1",
        "outputId": "8a700f80-8820-4c15-ba2b-8751eecb17a7",
        "colab": {
          "base_uri": "https://localhost:8080/"
        }
      },
      "source": [
        "!git clone https://github.com/malegopc/DSBD"
      ],
      "execution_count": null,
      "outputs": [
        {
          "output_type": "stream",
          "name": "stdout",
          "text": [
            "Cloning into 'DSBD'...\n",
            "remote: Enumerating objects: 721, done.\u001b[K\n",
            "remote: Counting objects: 100% (264/264), done.\u001b[K\n",
            "remote: Compressing objects: 100% (150/150), done.\u001b[K\n",
            "remote: Total 721 (delta 140), reused 217 (delta 111), pack-reused 457 (from 1)\u001b[K\n",
            "Receiving objects: 100% (721/721), 14.79 MiB | 13.75 MiB/s, done.\n",
            "Resolving deltas: 100% (348/348), done.\n"
          ]
        }
      ]
    },
    {
      "cell_type": "markdown",
      "source": [
        "##2-) Visualização do dataframe\n",
        "\n",
        "*Mostre as 5 primeiras e as 5 últimas linhas do dataframe.*"
      ],
      "metadata": {
        "id": "qsZlHCY7Mox1"
      }
    },
    {
      "cell_type": "code",
      "source": [
        "import pandas as pd\n",
        "\n",
        "df_churn = pd.read_csv('/content/DSBD/Datasets/Churn/Churn_Modelling.csv')\n",
        "\n",
        "print(\"Primeiras 5 linhas:\")\n",
        "print(df_churn.head(5))\n",
        "\n",
        "print(\"\\nÚltimas 5 linhas:\")\n",
        "print(df_churn.tail(5))"
      ],
      "metadata": {
        "id": "CSIVkJNyM5U8",
        "outputId": "17437411-f171-47c7-afcb-cb01678a4ea7",
        "colab": {
          "base_uri": "https://localhost:8080/"
        }
      },
      "execution_count": null,
      "outputs": [
        {
          "output_type": "stream",
          "name": "stdout",
          "text": [
            "Primeiras 5 linhas:\n",
            "   RowNumber  CustomerId   Surname  CreditScore Geography  Gender  Age  \\\n",
            "0          1    15634602  Hargrave          619    France  Female   42   \n",
            "1          2    15647311      Hill          608     Spain  Female   41   \n",
            "2          3    15619304      Onio          502    France  Female   42   \n",
            "3          4    15701354      Boni          699    France  Female   39   \n",
            "4          5    15737888  Mitchell          850     Spain  Female   43   \n",
            "\n",
            "   Tenure    Balance  NumOfProducts  HasCrCard  IsActiveMember  \\\n",
            "0       2       0.00              1          1               1   \n",
            "1       1   83807.86              1          0               1   \n",
            "2       8  159660.80              3          1               0   \n",
            "3       1       0.00              2          0               0   \n",
            "4       2  125510.82              1          1               1   \n",
            "\n",
            "   EstimatedSalary  Exited  \n",
            "0        101348.88       1  \n",
            "1        112542.58       0  \n",
            "2        113931.57       1  \n",
            "3         93826.63       0  \n",
            "4         79084.10       0  \n",
            "\n",
            "Últimas 5 linhas:\n",
            "      RowNumber  CustomerId    Surname  CreditScore Geography  Gender  Age  \\\n",
            "9995       9996    15606229   Obijiaku          771    France    Male   39   \n",
            "9996       9997    15569892  Johnstone          516    France    Male   35   \n",
            "9997       9998    15584532        Liu          709    France  Female   36   \n",
            "9998       9999    15682355  Sabbatini          772   Germany    Male   42   \n",
            "9999      10000    15628319     Walker          792    France  Female   28   \n",
            "\n",
            "      Tenure    Balance  NumOfProducts  HasCrCard  IsActiveMember  \\\n",
            "9995       5       0.00              2          1               0   \n",
            "9996      10   57369.61              1          1               1   \n",
            "9997       7       0.00              1          0               1   \n",
            "9998       3   75075.31              2          1               0   \n",
            "9999       4  130142.79              1          1               0   \n",
            "\n",
            "      EstimatedSalary  Exited  \n",
            "9995         96270.64       0  \n",
            "9996        101699.77       0  \n",
            "9997         42085.58       1  \n",
            "9998         92888.52       1  \n",
            "9999         38190.78       0  \n"
          ]
        }
      ]
    },
    {
      "cell_type": "markdown",
      "source": [
        "##3-) Eliminação manual de variáveis\n",
        "\n",
        "*Elimine as variáveis (colunas): 'RowNumber', 'CustomerId' e 'Surname'.*"
      ],
      "metadata": {
        "id": "zT4SPkzz1QYr"
      }
    },
    {
      "cell_type": "code",
      "source": [
        "# Verify the actual column names in your DataFrame\n",
        "print(df_churn.columns)\n",
        "\n",
        "# Adjust the column names in the drop method if needed. For example, if the column names are lowercase:\n",
        "df_churn = df_churn.drop(['RowNumber', 'CustomerId', 'Surname'], axis=1, errors='ignore')\n",
        "print(df_churn.head(5))\n"
      ],
      "metadata": {
        "id": "U5iErir-eKwi",
        "outputId": "54ec4107-213b-43fe-e4b2-54f9706b8069",
        "colab": {
          "base_uri": "https://localhost:8080/"
        }
      },
      "execution_count": null,
      "outputs": [
        {
          "output_type": "stream",
          "name": "stdout",
          "text": [
            "Index(['CreditScore', 'Geography', 'Gender', 'Age', 'Tenure', 'Balance',\n",
            "       'NumOfProducts', 'HasCrCard', 'IsActiveMember', 'EstimatedSalary',\n",
            "       'Exited'],\n",
            "      dtype='object')\n",
            "   CreditScore Geography  Gender  Age  Tenure    Balance  NumOfProducts  \\\n",
            "0          619    France  Female   42       2       0.00              1   \n",
            "1          608     Spain  Female   41       1   83807.86              1   \n",
            "2          502    France  Female   42       8  159660.80              3   \n",
            "3          699    France  Female   39       1       0.00              2   \n",
            "4          850     Spain  Female   43       2  125510.82              1   \n",
            "\n",
            "   HasCrCard  IsActiveMember  EstimatedSalary  Exited  \n",
            "0          1               1        101348.88       1  \n",
            "1          0               1        112542.58       0  \n",
            "2          1               0        113931.57       1  \n",
            "3          0               0         93826.63       0  \n",
            "4          1               1         79084.10       0  \n"
          ]
        }
      ]
    },
    {
      "cell_type": "markdown",
      "source": [
        "##4-) Dados ausentes\n",
        "\n",
        "*Verifique se há dados ausentes no dataframe.*"
      ],
      "metadata": {
        "id": "ztupOd_tJKDa"
      }
    },
    {
      "cell_type": "code",
      "source": [
        "print(df_churn.isnull().sum())"
      ],
      "metadata": {
        "id": "-46W42g4Jt18",
        "colab": {
          "base_uri": "https://localhost:8080/"
        },
        "outputId": "e6f22cfe-ee58-45c9-f970-c81d0579bf53"
      },
      "execution_count": null,
      "outputs": [
        {
          "output_type": "stream",
          "name": "stdout",
          "text": [
            "CreditScore        0\n",
            "Geography          0\n",
            "Gender             0\n",
            "Age                0\n",
            "Tenure             0\n",
            "Balance            0\n",
            "NumOfProducts      0\n",
            "HasCrCard          0\n",
            "IsActiveMember     0\n",
            "EstimatedSalary    0\n",
            "Exited             0\n",
            "dtype: int64\n"
          ]
        }
      ]
    },
    {
      "cell_type": "markdown",
      "source": [
        "## 5-) Separa as variáveis\n",
        "\n",
        "*Utilizando a função **[iloc](https://pandas.pydata.org/docs/reference/api/pandas.DataFrame.iloc.html?highlight=iloc#pandas.DataFrame.iloc)**, copie para uma variável \"X\" os valores de todas as variáveis (colunas) do dataframe, exceto os valores da variável \"Exited\".*\n",
        "\n",
        "*E copie para uma variável \"y\" somente os valores da variável \"Exited\".*"
      ],
      "metadata": {
        "id": "k4GgSA8-gGZm"
      }
    },
    {
      "cell_type": "code",
      "metadata": {
        "id": "LypJ6UWi1KgF",
        "outputId": "b46c11b1-dfcd-46f4-a51f-e0a66dc5cc83",
        "colab": {
          "base_uri": "https://localhost:8080/"
        }
      },
      "source": [
        "# prompt: Utilizando a função iloc, copie para uma variável \"X\" os valores de todas as variáveis (colunas) do dataframe, exceto os valores da variável \"Exited\".\n",
        "# E copie para uma variável \"y\" somente os valores da variável \"Exited\".\n",
        "\n",
        "X = df_churn.iloc[:, :-1].values\n",
        "y = df_churn.iloc[:, -1].values\n",
        "print(X)\n",
        "print(y)\n"
      ],
      "execution_count": null,
      "outputs": [
        {
          "output_type": "stream",
          "name": "stdout",
          "text": [
            "[[619 'France' 'Female' ... 1 1 101348.88]\n",
            " [608 'Spain' 'Female' ... 0 1 112542.58]\n",
            " [502 'France' 'Female' ... 1 0 113931.57]\n",
            " ...\n",
            " [709 'France' 'Female' ... 0 1 42085.58]\n",
            " [772 'Germany' 'Male' ... 1 0 92888.52]\n",
            " [792 'France' 'Female' ... 1 0 38190.78]]\n",
            "[1 0 1 ... 1 1 0]\n"
          ]
        }
      ]
    }
  ]
}